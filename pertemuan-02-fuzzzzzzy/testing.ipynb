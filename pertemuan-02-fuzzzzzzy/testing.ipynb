{
 "cells": [
  {
   "cell_type": "code",
   "execution_count": 1,
   "id": "2c27df13",
   "metadata": {},
   "outputs": [
    {
     "name": "stdout",
     "output_type": "stream",
     "text": [
      "Intensitas Lampu = 32.54 %\n",
      "Kesimpulan: Lampu dalam kondisi REDUP.\n"
     ]
    }
   ],
   "source": [
    "%matplotlib inline\n",
    "import numpy as np\n",
    "import matplotlib.pyplot as plt\n",
    "import skfuzzy as fuzz\n",
    "from skfuzzy import control as ctrl\n",
    "\n",
    "# Ensure skfuzzy visualization sees matplotlib\n",
    "try:\n",
    "    from skfuzzy.control import visualization as viz\n",
    "    if getattr(viz, 'matplotlib_present', True) is False:\n",
    "        import importlib\n",
    "        importlib.reload(viz)\n",
    "except Exception:\n",
    "    pass\n",
    "\n",
    "# === 1. Definisi Variabel Fuzzy ===\n",
    "# Input: Cahaya (0–100) dan Jarak (0–100)\n",
    "# Output: Intensitas Lampu (0–100)\n",
    "cahaya = ctrl.Antecedent(np.arange(0, 101, 1), 'cahaya')\n",
    "jarak = ctrl.Antecedent(np.arange(0, 101, 1), 'jarak')\n",
    "lampu = ctrl.Consequent(np.arange(0, 101, 1), 'lampu')\n",
    "\n",
    "# === 2. Fungsi Keanggotaan (Membership Functions) ===\n",
    "# Bentuk segitiga: [awal, tengah, akhir]\n",
    "cahaya['gelap'] = fuzz.trimf(cahaya.universe, [0, 0, 50])\n",
    "cahaya['sedang'] = fuzz.trimf(cahaya.universe, [25, 50, 75])\n",
    "cahaya['terang'] = fuzz.trimf(cahaya.universe, [50, 100, 100])\n",
    "\n",
    "jarak['dekat'] = fuzz.trimf(jarak.universe, [0, 0, 40])\n",
    "jarak['sedang'] = fuzz.trimf(jarak.universe, [20, 50, 80])\n",
    "jarak['jauh'] = fuzz.trimf(jarak.universe, [60, 100, 100])\n",
    "\n",
    "lampu['mati'] = fuzz.trimf(lampu.universe, [0, 0, 30])\n",
    "lampu['redup'] = fuzz.trimf(lampu.universe, [20, 50, 80])\n",
    "lampu['terang'] = fuzz.trimf(lampu.universe, [70, 100, 100])\n",
    "\n",
    "# === 3. Aturan Fuzzy (Rules) ===\n",
    "rule1 = ctrl.Rule(cahaya['gelap'] & jarak['dekat'], lampu['terang'])\n",
    "rule2 = ctrl.Rule(cahaya['gelap'] & jarak['jauh'], lampu['redup'])\n",
    "rule3 = ctrl.Rule(cahaya['sedang'] & jarak['dekat'], lampu['redup'])\n",
    "rule4 = ctrl.Rule(cahaya['terang'], lampu['mati'])\n",
    "\n",
    "# === 4. Sistem Fuzzy ===\n",
    "lampu_ctrl = ctrl.ControlSystem([rule1, rule2, rule3, rule4])\n",
    "lampu_simulasi = ctrl.ControlSystemSimulation(lampu_ctrl)\n",
    "\n",
    "# === 5. Input dari Sensor ===\n",
    "lampu_simulasi.input['cahaya'] = 70\n",
    "lampu_simulasi.input['jarak'] = 5\n",
    "\n",
    "# === 6. Proses Fuzzy Logic ===\n",
    "lampu_simulasi.compute()\n",
    "\n",
    "# === 7. Output Hasil ===\n",
    "hasil = lampu_simulasi.output['lampu']\n",
    "print(\"Intensitas Lampu =\", round(hasil, 2), \"%\")\n",
    "\n",
    "if hasil < 20:\n",
    "    print(\"Kesimpulan: Lampu dalam kondisi MATI.\")\n",
    "elif hasil < 60:\n",
    "    print(\"Kesimpulan: Lampu dalam kondisi REDUP.\")\n",
    "else:\n",
    "    print(\"Kesimpulan: Lampu dalam kondisi TERANG.\")"
   ]
  }
 ],
 "metadata": {
  "kernelspec": {
   "display_name": "venv",
   "language": "python",
   "name": "python3"
  },
  "language_info": {
   "codemirror_mode": {
    "name": "ipython",
    "version": 3
   },
   "file_extension": ".py",
   "mimetype": "text/x-python",
   "name": "python",
   "nbconvert_exporter": "python",
   "pygments_lexer": "ipython3",
   "version": "3.13.2"
  }
 },
 "nbformat": 4,
 "nbformat_minor": 5
}
