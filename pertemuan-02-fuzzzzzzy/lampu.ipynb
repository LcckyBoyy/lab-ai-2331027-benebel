{
 "cells": [
  {
   "cell_type": "code",
   "execution_count": 1,
   "id": "376532ae",
   "metadata": {},
   "outputs": [],
   "source": [
    "import numpy as np\n",
    "import pandas as pd\n",
    "import skfuzzy as fuzz\n",
    "from skfuzzy import control as ctrl\n",
    "import matplotlib.pyplot as plt\n",
    "\n",
    "# Definisi variabel fuzzy\n",
    "cahaya = ctrl.Antecedent(np.arange(0, 101, 1), 'cahaya')\n",
    "jarak = ctrl.Antecedent(np.arange(0, 101, 1), 'jarak')\n",
    "lampu = ctrl.Consequent(np.arange(0, 101, 1), 'lampu')\n",
    "\n",
    "# Fungsi keanggotaan\n",
    "cahaya['gelap'] = fuzz.trimf(cahaya.universe, [0, 0, 50])\n",
    "cahaya['sedang'] = fuzz.trimf(cahaya.universe, [25, 50, 75])\n",
    "cahaya['terang'] = fuzz.trimf(cahaya.universe, [50, 100, 100])\n",
    "\n",
    "jarak['dekat'] = fuzz.trimf(jarak.universe, [0, 0, 50])\n",
    "jarak['sedang'] = fuzz.trimf(jarak.universe, [25, 50, 75])\n",
    "jarak['jauh'] = fuzz.trimf(jarak.universe, [50, 100, 100])\n",
    "\n",
    "lampu['redup'] = fuzz.trimf(lampu.universe, [0, 0, 50])\n",
    "lampu['normal'] = fuzz.trimf(lampu.universe, [25, 50, 75])\n",
    "lampu['terang'] = fuzz.trimf(lampu.universe, [50, 100, 100])\n"
   ]
  },
  {
   "cell_type": "code",
   "execution_count": 2,
   "id": "2a220ca9",
   "metadata": {},
   "outputs": [],
   "source": [
    "rule1 = ctrl.Rule(cahaya['gelap'] & jarak['dekat'], lampu['redup'])\n",
    "rule2 = ctrl.Rule(cahaya['gelap'] & jarak['jauh'], lampu['normal'])\n",
    "rule3 = ctrl.Rule(cahaya['sedang'] & jarak['dekat'], lampu['normal'])\n",
    "rule4 = ctrl.Rule(cahaya['sedang'] & jarak['jauh'], lampu['terang'])\n",
    "rule5 = ctrl.Rule(cahaya['terang'] & jarak['dekat'], lampu['redup'])\n",
    "rule6 = ctrl.Rule(cahaya['terang'] & jarak['jauh'], lampu['redup'])\n",
    "\n",
    "lampu_ctrl = ctrl.ControlSystem([rule1, rule2, rule3, rule4, rule5, rule6])\n",
    "lampu_sim = ctrl.ControlSystemSimulation(lampu_ctrl)\n"
   ]
  },
  {
   "cell_type": "code",
   "execution_count": 4,
   "id": "caa6a0a3",
   "metadata": {},
   "outputs": [],
   "source": [
    "np.random.seed(42)\n",
    "data = []\n",
    "\n",
    "for i in range(50):\n",
    "    cahaya_val = np.random.randint(0, 101)\n",
    "    jarak_val = np.random.randint(0, 101)\n",
    "\n",
    "    lampu_sim.input['cahaya'] = cahaya_val\n",
    "    lampu_sim.input['jarak'] = jarak_val\n",
    "    lampu_sim.compute()\n",
    "\n",
    "    hasil = lampu_sim.output['lampu']\n",
    "    data.append([cahaya_val, jarak_val, hasil])\n",
    "\n",
    "df = pd.DataFrame(data, columns=['Cahaya', 'Jarak', 'Intensitas Lampu'])\n"
   ]
  },
  {
   "cell_type": "code",
   "execution_count": 5,
   "id": "b2aa490c",
   "metadata": {},
   "outputs": [
    {
     "data": {
      "text/html": [
       "<div>\n",
       "<style scoped>\n",
       "    .dataframe tbody tr th:only-of-type {\n",
       "        vertical-align: middle;\n",
       "    }\n",
       "\n",
       "    .dataframe tbody tr th {\n",
       "        vertical-align: top;\n",
       "    }\n",
       "\n",
       "    .dataframe thead th {\n",
       "        text-align: right;\n",
       "    }\n",
       "</style>\n",
       "<table border=\"1\" class=\"dataframe\">\n",
       "  <thead>\n",
       "    <tr style=\"text-align: right;\">\n",
       "      <th></th>\n",
       "      <th>Cahaya</th>\n",
       "      <th>Jarak</th>\n",
       "      <th>Intensitas Lampu</th>\n",
       "      <th>Kategori Lampu</th>\n",
       "    </tr>\n",
       "  </thead>\n",
       "  <tbody>\n",
       "    <tr>\n",
       "      <th>0</th>\n",
       "      <td>51</td>\n",
       "      <td>92</td>\n",
       "      <td>80.692045</td>\n",
       "      <td>Tinggi</td>\n",
       "    </tr>\n",
       "    <tr>\n",
       "      <th>1</th>\n",
       "      <td>14</td>\n",
       "      <td>71</td>\n",
       "      <td>50.000000</td>\n",
       "      <td>Sedang</td>\n",
       "    </tr>\n",
       "    <tr>\n",
       "      <th>2</th>\n",
       "      <td>60</td>\n",
       "      <td>20</td>\n",
       "      <td>42.484277</td>\n",
       "      <td>Sedang</td>\n",
       "    </tr>\n",
       "    <tr>\n",
       "      <th>3</th>\n",
       "      <td>82</td>\n",
       "      <td>86</td>\n",
       "      <td>18.254902</td>\n",
       "      <td>Rendah</td>\n",
       "    </tr>\n",
       "    <tr>\n",
       "      <th>4</th>\n",
       "      <td>74</td>\n",
       "      <td>74</td>\n",
       "      <td>25.052145</td>\n",
       "      <td>Rendah</td>\n",
       "    </tr>\n",
       "  </tbody>\n",
       "</table>\n",
       "</div>"
      ],
      "text/plain": [
       "   Cahaya  Jarak  Intensitas Lampu Kategori Lampu\n",
       "0      51     92         80.692045         Tinggi\n",
       "1      14     71         50.000000         Sedang\n",
       "2      60     20         42.484277         Sedang\n",
       "3      82     86         18.254902         Rendah\n",
       "4      74     74         25.052145         Rendah"
      ]
     },
     "execution_count": 5,
     "metadata": {},
     "output_type": "execute_result"
    }
   ],
   "source": [
    "def kategori_lampu(x):\n",
    "    if x < 30:\n",
    "        return \"Rendah\"\n",
    "    elif x < 70:\n",
    "        return \"Sedang\"\n",
    "    else:\n",
    "        return \"Tinggi\"\n",
    "\n",
    "df[\"Kategori Lampu\"] = df[\"Intensitas Lampu\"].apply(kategori_lampu)\n",
    "df.head()"
   ]
  },
  {
   "cell_type": "code",
   "execution_count": 6,
   "id": "33b77efd",
   "metadata": {},
   "outputs": [
    {
     "data": {
      "image/png": "[encoded data removed]",
      "text/plain": [
       "<Figure size 800x400 with 1 Axes>"
      ]
     },
     "metadata": {},
     "output_type": "display_data"
    }
   ],
   "source": [
    "plt.figure(figsize=(8,4))\n",
    "plt.scatter(df['Cahaya'], df['Intensitas Lampu'], c='blue', label='Cahaya vs Lampu')\n",
    "plt.scatter(df['Jarak'], df['Intensitas Lampu'], c='orange', label='Jarak vs Lampu')\n",
    "plt.xlabel('Input (Cahaya/Jarak)')\n",
    "plt.ylabel('Output Lampu')\n",
    "plt.legend()\n",
    "plt.title('Distribusi Data Fuzzy Logic Lampu')\n",
    "plt.grid(True)\n",
    "plt.show()"
   ]
  },
  {
   "cell_type": "code",
   "execution_count": 7,
   "id": "f68c4011",
   "metadata": {},
   "outputs": [],
   "source": [
    "df.to_csv('dataset_fuzzy_lampu.csv', index=False)\n",
    "\n",
    "with open(\"requirements.txt\", \"w\") as f:\n",
    "    f.write(\"numpy\\npandas\\nmatplotlib\\nscikit-fuzzy\\n\")"
   ]
  }
 ],
 "metadata": {
  "kernelspec": {
   "display_name": "venv",
   "language": "python",
   "name": "python3"
  },
  "language_info": {
   "codemirror_mode": {
    "name": "ipython",
    "version": 3
   },
   "file_extension": ".py",
   "mimetype": "text/x-python",
   "name": "python",
   "nbconvert_exporter": "python",
   "pygments_lexer": "ipython3",
   "version": "3.13.2"
  }
 },
 "nbformat": 4,
 "nbformat_minor": 5
}
